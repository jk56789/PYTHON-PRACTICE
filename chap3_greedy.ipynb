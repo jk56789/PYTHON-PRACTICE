{
 "cells": [
  {
   "cell_type": "markdown",
   "metadata": {},
   "source": [
    "시간 복잡도: 연산 횟수\n",
    "\n",
    "공간 복잡도: 메모리 저장 크기"
   ]
  },
  {
   "cell_type": "markdown",
   "metadata": {},
   "source": [
    "#### '선택 정렬'과 '기본 정렬 라이브러리'의 수행 시간 비교"
   ]
  },
  {
   "cell_type": "code",
   "execution_count": 1,
   "metadata": {},
   "outputs": [
    {
     "name": "stdout",
     "output_type": "stream",
     "text": [
      "선택 정렬 성능 측정 : 10.155626058578491\n"
     ]
    }
   ],
   "source": [
    "from random import randint\n",
    "import time\n",
    "\n",
    "#10000개의 정수 삽입\n",
    "array=[]\n",
    "for _ in range(10000):\n",
    "    array.append(randint(1,100)) #1에서 100사이 숫자가 10000번 저장됨 array=[1,4,23,14,5,1,...]\n",
    "\n",
    "# 선택 정렬 프로그램 만들고 시간측정\n",
    "start_time = time.time()\n",
    "\n",
    "for i in range(len(array)):\n",
    "    min_index = i #가장 작은 원소\n",
    "    for j in range(i+1,len(array)):\n",
    "        if array[min_index]>array[j]:\n",
    "            min_index=j\n",
    "        array[i], array[min_index] = array[min_index], array[i]\n",
    "\n",
    "end_time = time.time()\n",
    "\n",
    "print(\"선택 정렬 성능 측정 :\", end_time - start_time)"
   ]
  },
  {
   "cell_type": "code",
   "execution_count": 5,
   "metadata": {},
   "outputs": [
    {
     "name": "stdout",
     "output_type": "stream",
     "text": [
      "기본 정렬 라이브러리 성능 측정 :  0.0025017261505126953\n"
     ]
    }
   ],
   "source": [
    "#10000개의 정수 삽입\n",
    "array=[]\n",
    "for _ in range(10000):\n",
    "    array.append(randint(1,100))\n",
    "\n",
    "# 기본 정렬 라이브러리 사용하고 시간측정\n",
    "start_time = time.time()\n",
    "\n",
    "array.sort()\n",
    "\n",
    "end_time = time.time()\n",
    "\n",
    "print(\"기본 정렬 라이브러리 성능 측정 : \", end_time - start_time)"
   ]
  },
  {
   "cell_type": "markdown",
   "metadata": {},
   "source": [
    "### 거스름 돈_당장 좋은것만 선택되도록\n",
    "##### 동전의 개수가 최소가 되게 만들자\n"
   ]
  },
  {
   "cell_type": "code",
   "execution_count": 2,
   "metadata": {},
   "outputs": [
    {
     "name": "stdout",
     "output_type": "stream",
     "text": [
      "6\n"
     ]
    }
   ],
   "source": [
    "\n",
    "n = 1260\n",
    "count = 0 \n",
    "\n",
    "# 큰단위 화폐부터 차례대로 확인\n",
    "coin_types = [500,100,50,10]\n",
    "\n",
    "for coin in coin_types:\n",
    "    count += n//coin # 해당화폐로 거슬러 줄 수 있는 동전의 개수 세기\n",
    "    n %= coin\n",
    "\n",
    "print(count)"
   ]
  },
  {
   "cell_type": "code",
   "execution_count": 1,
   "metadata": {},
   "outputs": [
    {
     "name": "stdout",
     "output_type": "stream",
     "text": [
      "2\n",
      "260\n",
      "4\n",
      "60\n",
      "5\n",
      "10\n",
      "6\n",
      "0\n",
      "6\n"
     ]
    }
   ],
   "source": [
    "n = 1260\n",
    "count = 0 \n",
    "\n",
    "# 큰단위 화폐부터 차례대로 확인\n",
    "coin_types = [500,100,50,10]\n",
    "\n",
    "for coin in coin_types:\n",
    "    count = count + n//coin # 해당화폐로 거슬러 줄 수 있는 동전의 개수 세기 # //는 몫\n",
    "    print(count)\n",
    "    n = n % coin # %는 나머지\n",
    "    print(n)\n",
    "\n",
    "print(count)"
   ]
  },
  {
   "cell_type": "markdown",
   "metadata": {},
   "source": [
    "###  p92 큰수의 법칙 (30분,1초,128MB) "
   ]
  },
  {
   "cell_type": "code",
   "execution_count": 3,
   "metadata": {},
   "outputs": [
    {
     "name": "stdout",
     "output_type": "stream",
     "text": [
      "46\n"
     ]
    }
   ],
   "source": [
    "#풀이1\n",
    "\n",
    "# N,M,K를 공백으로 구분하여 입력받기\n",
    "n, m, k = map(int, input().split())\n",
    "# N개의 수를 공백으로 구분하여 입력받기\n",
    "data = list(map(int,input().split()))\n",
    "\n",
    "# n, m, k = 5, 8, 3 \n",
    "# data = [2 4 5 4 6]\n",
    "\n",
    "data.sort() #입력받은 수 정렬하기\n",
    "first = data[n-1] #가장 큰 수\n",
    "second = data[n-2] #두번째로 큰 수\n",
    "\n",
    "result = 0\n",
    "\n",
    "while True:\n",
    "    for i in range(k): #가장 큰 수 K번 더하기\n",
    "        if m == 0: # m이 0이라면 반복문 탈출\n",
    "            break\n",
    "        result = result + first\n",
    "        m = m - 1 #더할때 마다 1씩 빼기\n",
    "\n",
    "    if m == 0: # m이 0이라면 반복문 탈출\n",
    "        break\n",
    "    result = result + second # 두번쨰로 큰 수를 한번 더하기\n",
    "    m = m - 1 #더할때 마다 1씩 빼기\n",
    "\n",
    "print(result)\n"
   ]
  },
  {
   "cell_type": "code",
   "execution_count": 4,
   "metadata": {},
   "outputs": [
    {
     "name": "stdout",
     "output_type": "stream",
     "text": [
      "46\n"
     ]
    }
   ],
   "source": [
    "#풀이2\n",
    "\n",
    "# N,M,K를 공백으로 구분하여 입력받기\n",
    "n, m, k = map(int, input().split())\n",
    "# N개의 수를 공백으로 구분하여 입력받기\n",
    "data = list(map(int,input().split()))\n",
    "\n",
    "data.sort() #입력받은 수 정렬하기\n",
    "first = data[n-1] #가장 큰 수\n",
    "second = data[n-2] #두번째로 큰 수\n",
    "\n",
    "#가장 큰 수가 더해지는 횟수 계산\n",
    "count = int(m/(k+1))*k\n",
    "count = count + m %(k+1)\n",
    "\n",
    "result = 0\n",
    "result +=(count) *first\n",
    "result +=(m-count)*second\n",
    "\n",
    "print(result)"
   ]
  },
  {
   "cell_type": "markdown",
   "metadata": {},
   "source": [
    "2022.08.22"
   ]
  },
  {
   "cell_type": "markdown",
   "metadata": {},
   "source": [
    "96p 숫자카드게임 (여러카드에서 가장 높은 카드 뽑자)\n"
   ]
  },
  {
   "cell_type": "code",
   "execution_count": 4,
   "metadata": {},
   "outputs": [
    {
     "name": "stdout",
     "output_type": "stream",
     "text": [
      "[3, 1, 2]\n",
      "[4, 1, 4]\n",
      "[2, 2, 2]\n",
      "2\n"
     ]
    }
   ],
   "source": [
    "#N,M을 공백으로 구분하여 입력 받기\n",
    "n,m = map(int, input().split())\n",
    "\n",
    "result=0\n",
    "#한줄씩 입력 받아 확인\n",
    "for i in range(n):\n",
    "    data = list(map(int,input().split()))\n",
    "    print(data)\n",
    "    #현재 줄에서 가장 작은 수 찾기\n",
    "    min_value = min(data)\n",
    "    #가장 작은 수 사이에서 가장 큰수 찾기\n",
    "    result = max(result,min_value)\n",
    "print(result)"
   ]
  },
  {
   "cell_type": "code",
   "execution_count": 6,
   "metadata": {},
   "outputs": [
    {
     "name": "stdout",
     "output_type": "stream",
     "text": [
      "[7, 3, 1, 8]\n",
      "[3, 3, 3, 4]\n",
      "3\n"
     ]
    }
   ],
   "source": [
    "#N,M을 공백으로 구분하여 입력 받기\n",
    "n,m = map(int, input().split())\n",
    "\n",
    "result=0\n",
    "#한줄씩 입력 받아 확인\n",
    "for i in range(n):\n",
    "    data = list(map(int,input().split()))\n",
    "    print(data)\n",
    "    #현재 줄에서 가장 작은 수 찾기\n",
    "    min_value = 10001\n",
    "    for a in data:\n",
    "        min_value = min(min_value,a)\n",
    "    #가장 작은 수들 중에서 가장큰수 찾기\n",
    "    result = max(result,min_value)\n",
    "print(result)\n"
   ]
  },
  {
   "cell_type": "markdown",
   "metadata": {},
   "source": [
    "p99 1이될때까지 \n",
    "\n",
    "\n",
    "조건1    -1\n",
    "조건2   나누기"
   ]
  },
  {
   "cell_type": "code",
   "execution_count": 9,
   "metadata": {},
   "outputs": [
    {
     "name": "stdout",
     "output_type": "stream",
     "text": [
      "4\n"
     ]
    }
   ],
   "source": [
    "n,k = map(int, input().split())\n",
    "result=0\n",
    "\n",
    "# N이 K이상이라면 K로 계속 나누기\n",
    "while n >= k:\n",
    "    # N이 K로 나누어 지지 않는 다면 N에서 1씩 빼기\n",
    "    while n%k != 0: # %는 나머지\n",
    "        n = n-1\n",
    "        result= result +1\n",
    "    # K로 나누기\n",
    "    n =  n // k \n",
    "    result = result+1\n",
    "\n",
    "#마지막으로 남은 수에서 1씩 빼기\n",
    "while n>1:\n",
    "    n = n -1\n",
    "    result = result +1\n",
    "\n",
    "print(result)"
   ]
  },
  {
   "cell_type": "code",
   "execution_count": 2,
   "metadata": {},
   "outputs": [
    {
     "name": "stdout",
     "output_type": "stream",
     "text": [
      "4\n"
     ]
    }
   ],
   "source": [
    "n,k = map(int, input().split())\n",
    "result=0\n",
    "\n",
    "while True:\n",
    "    #(N == K로 나누어 떨어지는 수)가 될 떄 까지 1씩 빼기\n",
    "    target = (n//k)*k\n",
    "    result = result +(n - target)\n",
    "    n = target\n",
    "    #N이 K보다 작을 떄 (더 이상 나눌수 없을때 ) 반복분 탈출\n",
    "    if n<k:\n",
    "        break\n",
    "    #K로 나누기\n",
    "    result = result + 1\n",
    "    n = n // k\n",
    "\n",
    "#마지막으로 남은 수에 대하여 1씩 뺴기\n",
    "\n",
    "result =result + (n-1)\n",
    "print(result)"
   ]
  },
  {
   "cell_type": "code",
   "execution_count": 4,
   "metadata": {},
   "outputs": [
    {
     "name": "stdout",
     "output_type": "stream",
     "text": [
      "Hello World!\n"
     ]
    }
   ],
   "source": [
    "print(\"Hello World!\")"
   ]
  },
  {
   "cell_type": "code",
   "execution_count": null,
   "metadata": {},
   "outputs": [],
   "source": [
    "#ㅜ"
   ]
  }
 ],
 "metadata": {
  "kernelspec": {
   "display_name": "Python 3.7.9 ('data_science': venv)",
   "language": "python",
   "name": "python3"
  },
  "language_info": {
   "codemirror_mode": {
    "name": "ipython",
    "version": 3
   },
   "file_extension": ".py",
   "mimetype": "text/x-python",
   "name": "python",
   "nbconvert_exporter": "python",
   "pygments_lexer": "ipython3",
   "version": "3.7.9"
  },
  "orig_nbformat": 4,
  "vscode": {
   "interpreter": {
    "hash": "bf1099e990e91e94eb4cafd9866453205093733f19978f203482b3ed7c0424ee"
   }
  }
 },
 "nbformat": 4,
 "nbformat_minor": 2
}
