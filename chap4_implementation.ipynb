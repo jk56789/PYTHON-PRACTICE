{
 "cells": [
  {
   "cell_type": "markdown",
   "metadata": {},
   "source": [
    "##### 상하좌우"
   ]
  },
  {
   "cell_type": "code",
   "execution_count": 11,
   "metadata": {},
   "outputs": [
    {
     "name": "stdout",
     "output_type": "stream",
     "text": [
      "3 4\n"
     ]
    }
   ],
   "source": [
    "#  N을 입력 받기\n",
    "\n",
    "n = int(input())\n",
    "x,y= 1,1\n",
    "plans = input().split()\n",
    "\n",
    "# L,R,U,D에 따른 이동 방향\n",
    "dx = [0,0,-1,1]\n",
    "dy = [-1,1,0,0]\n",
    "move_types=['L','R','U','D']\n",
    "\n",
    "#이동계획 세우기\n",
    "for plan in plans:\n",
    "    #이동후 좌표 구하기\n",
    "    for i in range(len(move_types)):\n",
    "        if plan == move_types[i]:\n",
    "            nx= x+dx[i]\n",
    "            ny= y+dy[i]\n",
    "# 공간을 벗어나느 경우 무시\n",
    "    if nx<1 or ny<1 or nx>n or ny>n:\n",
    "        continue\n",
    "\n",
    "    x,y = nx,ny\n",
    "print(x,y)"
   ]
  },
  {
   "cell_type": "markdown",
   "metadata": {},
   "source": [
    "##### 시각 "
   ]
  },
  {
   "cell_type": "code",
   "execution_count": 14,
   "metadata": {},
   "outputs": [
    {
     "name": "stdout",
     "output_type": "stream",
     "text": [
      "11475\n"
     ]
    }
   ],
   "source": [
    "h =  int(input())\n",
    "\n",
    "count = 0\n",
    "for i in range(h+1):\n",
    "    for j in range(60):\n",
    "        for k in range(60):\n",
    "            # 매 시각 안에 3이 포함되어 있다면 카운트 증가\n",
    "            if '3' in str(i) +str(j) +str(k):\n",
    "                count = count +1\n",
    "print(count)\n"
   ]
  },
  {
   "cell_type": "markdown",
   "metadata": {},
   "source": [
    "p115 왕실의 나이트"
   ]
  },
  {
   "cell_type": "code",
   "execution_count": 2,
   "metadata": {},
   "outputs": [
    {
     "name": "stdout",
     "output_type": "stream",
     "text": [
      "6\n"
     ]
    }
   ],
   "source": [
    "input_data = input()\n",
    "row = int(input_data[1])\n",
    "column = int(ord(input_data[0])) - int(ord('a')) + 1\n",
    "\n",
    "#이동방향 정의\n",
    "steps = [(-2,-1),(-1,-2),(1,-2),(2,-1),(2,1),(1,2),(-1,2),(2,-1)]\n",
    "\n",
    "#8방향에 대하여 각 위치로 이동이 가능한지 확인\n",
    "result = 0\n",
    "for step in steps:\n",
    "    #이동하고자 하는 위치 확인\n",
    "    next_row = row + step[0]\n",
    "    next_column = column +step[1]\n",
    "    if next_row >= 1 and next_row <= 8 and next_column >= 1 and next_column <=8:\n",
    "        result += 1\n",
    "print(result)"
   ]
  },
  {
   "cell_type": "code",
   "execution_count": 8,
   "metadata": {},
   "outputs": [
    {
     "name": "stdout",
     "output_type": "stream",
     "text": [
      "97\n",
      "99\n"
     ]
    }
   ],
   "source": [
    "# ord(c)는 문자의 유니코드 값을 돌려주는 함수이다.\n",
    "print(ord('a'))\n",
    "print(ord('c'))"
   ]
  },
  {
   "cell_type": "markdown",
   "metadata": {},
   "source": [
    "p118게임개발"
   ]
  },
  {
   "cell_type": "code",
   "execution_count": 9,
   "metadata": {},
   "outputs": [
    {
     "ename": "TypeError",
     "evalue": "'builtin_function_or_method' object is not iterable",
     "output_type": "error",
     "traceback": [
      "\u001b[1;31m---------------------------------------------------------------------------\u001b[0m",
      "\u001b[1;31mTypeError\u001b[0m                                 Traceback (most recent call last)",
      "\u001b[1;32m~\\AppData\\Local\\Temp\\ipykernel_20372\\2970778766.py\u001b[0m in \u001b[0;36m<module>\u001b[1;34m\u001b[0m\n\u001b[0;32m      8\u001b[0m \u001b[1;33m\u001b[0m\u001b[0m\n\u001b[0;32m      9\u001b[0m \u001b[1;31m#현재 캐릭터의 x,y,방향을 입력받기\u001b[0m\u001b[1;33m\u001b[0m\u001b[1;33m\u001b[0m\u001b[1;33m\u001b[0m\u001b[0m\n\u001b[1;32m---> 10\u001b[1;33m \u001b[0mx\u001b[0m\u001b[1;33m,\u001b[0m\u001b[0my\u001b[0m\u001b[1;33m,\u001b[0m\u001b[0mdirrection\u001b[0m  \u001b[1;33m=\u001b[0m \u001b[0mmap\u001b[0m\u001b[1;33m(\u001b[0m\u001b[0mint\u001b[0m\u001b[1;33m,\u001b[0m \u001b[0minput\u001b[0m\u001b[1;33m(\u001b[0m\u001b[1;33m)\u001b[0m\u001b[1;33m.\u001b[0m\u001b[0msplit\u001b[0m\u001b[1;33m)\u001b[0m\u001b[1;33m\u001b[0m\u001b[1;33m\u001b[0m\u001b[0m\n\u001b[0m\u001b[0;32m     11\u001b[0m \u001b[0md\u001b[0m\u001b[1;33m[\u001b[0m\u001b[0mx\u001b[0m\u001b[1;33m]\u001b[0m\u001b[1;33m[\u001b[0m\u001b[0my\u001b[0m\u001b[1;33m]\u001b[0m \u001b[1;33m=\u001b[0m \u001b[1;36m1\u001b[0m \u001b[1;31m# 현재 좌표 방문 처리\u001b[0m\u001b[1;33m\u001b[0m\u001b[1;33m\u001b[0m\u001b[0m\n\u001b[0;32m     12\u001b[0m \u001b[1;33m\u001b[0m\u001b[0m\n",
      "\u001b[1;31mTypeError\u001b[0m: 'builtin_function_or_method' object is not iterable"
     ]
    }
   ],
   "source": [
    "import glob\n",
    "from multiprocessing import Array\n",
    "# n,m을 공백으로 구분하여 입력받기\n",
    "n,m = map(int,input().split())\n",
    "\n",
    "#방문한 위치를 저장하기 위한 맵을 생성하여 0으로 초기화\n",
    "d = [[0]*m for _ in range(n)]\n",
    "\n",
    "#현재 캐릭터의 x,y,방향을 입력받기\n",
    "x,y,dirrection  = map(int, input().split)\n",
    "d[x][y] = 1 # 현재 좌표 방문 처리\n",
    "\n",
    "#전체맵 정보 받기\n",
    "array = [] \n",
    "for i in range(n):\n",
    "    array.append(list(map(int, input().split())))\n",
    "\n",
    "# 북,동,남,서 방향정의\n",
    "dx = [-1, 0, 1 , 0]\n",
    "dy = [0, 1, 0, -1]\n",
    "\n",
    "#왼쪽으로 회전 정의\n",
    "def turn_left():\n",
    "    global direction\n",
    "    direction -= 1 \n",
    "    if direction == -1:\n",
    "        direction = 3 \n",
    "\n",
    "#시뮬레이션 시작\n",
    "count = 1 \n",
    "turn_time = 0 \n",
    "while True:\n",
    "    #왼쪽회전\n",
    "    turn_left()\n",
    "    nx = x + dx[direction]\n",
    "    ny = y + dy[direction]\n",
    "    #회전이후 정면에 가보지 않은 칸이 존재하는 경우 이동\n",
    "    if d[nx][ny] == 0 and array[nx][ny] == 0 :\n",
    "        d[nx][ny] = 1\n",
    "        x= nx\n",
    "        y= ny\n",
    "        count = count +1\n",
    "        turn_time = 0\n",
    "        continue\n",
    "    #회전이후 정면에 가보지 않은 칸이 없거나 바다인 경우\n",
    "    else:\n",
    "        turn_time = turn_time + 1\n",
    "    # 네방향 모두 갈수 없는경우\n",
    "    if turn_time == turn_time + 4:\n",
    "        nx = x - dx[direction]\n",
    "        ny = y - dy[direction]\n",
    "        #뒤로갈수 있다면 이동하기\n",
    "        if array[nx][ny] == 0:\n",
    "            x=nx\n",
    "            y=ny\n",
    "        else:\n",
    "            break\n",
    "        turn_time = 0 \n",
    "print(count)"
   ]
  }
 ],
 "metadata": {
  "kernelspec": {
   "display_name": "Python 3.7.9 ('data_science': venv)",
   "language": "python",
   "name": "python3"
  },
  "language_info": {
   "codemirror_mode": {
    "name": "ipython",
    "version": 3
   },
   "file_extension": ".py",
   "mimetype": "text/x-python",
   "name": "python",
   "nbconvert_exporter": "python",
   "pygments_lexer": "ipython3",
   "version": "3.7.9"
  },
  "orig_nbformat": 4,
  "vscode": {
   "interpreter": {
    "hash": "bf1099e990e91e94eb4cafd9866453205093733f19978f203482b3ed7c0424ee"
   }
  }
 },
 "nbformat": 4,
 "nbformat_minor": 2
}
