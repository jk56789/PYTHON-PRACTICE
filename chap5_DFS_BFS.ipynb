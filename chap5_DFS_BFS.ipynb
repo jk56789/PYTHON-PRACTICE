{
 "cells": [
  {
   "cell_type": "markdown",
   "metadata": {},
   "source": [
    "#### 자료구조(Data Structure): 데이터를 표현하고 관리하고 처리하기 위한 구조"
   ]
  },
  {
   "cell_type": "markdown",
   "metadata": {},
   "source": [
    "#### 탐색(Search): 많은 양의 데이터 중에서 원하는 데이터를 찾는과정\n",
    "    그래프,트리등의 자료구조에서 탐색을 해야한다. 탐색알고리즘으로는 DFS,BFS가 있다.\n"
   ]
  },
  {
   "cell_type": "markdown",
   "metadata": {},
   "source": [
    "overflow: 특정 자료구조가 수용할 수 있는 데이터의 크기를 벗어난 상태에서 삽입연산을 수행할 때 발생"
   ]
  },
  {
   "cell_type": "markdown",
   "metadata": {},
   "source": [
    "undeflow: overflow와 반대로 데이터가 전혀 들어있지 않은 상태에서 삭제연산을 수행랑 때 발생"
   ]
  },
  {
   "cell_type": "markdown",
   "metadata": {},
   "source": [
    "### stack"
   ]
  },
  {
   "cell_type": "markdown",
   "metadata": {},
   "source": [
    "fisrt in last out"
   ]
  },
  {
   "cell_type": "code",
   "execution_count": 2,
   "metadata": {},
   "outputs": [
    {
     "name": "stdout",
     "output_type": "stream",
     "text": [
      "[5, 2, 3, 1]\n",
      "[1, 3, 2, 5]\n"
     ]
    }
   ],
   "source": [
    "#5-1 스택예제\n",
    "\n",
    "#삽입5,삽입2,삽입3,삽입7,삭제,삽입1,삽이4,삭제\n",
    "\n",
    "stack=[]\n",
    "stack.append(5)\n",
    "stack.append(2)\n",
    "stack.append(3)\n",
    "stack.append(7)\n",
    "stack.pop() #쌓아 올린 것줌 맨위의 것 삭제\n",
    "stack.append(1)\n",
    "stack.append(4)\n",
    "stack.pop()\n",
    "\n",
    "print(stack) #최하단 원소부터 출력\n",
    "print(stack[::-1]) #최상단 원소부터 출력"
   ]
  },
  {
   "cell_type": "markdown",
   "metadata": {},
   "source": [
    "스택을 이용할 때 별도의 라이브러리 불필요\n",
    "\n",
    "\n",
    "리스트에서 append()와pop()메서드를 이용하면 스택 자료구조와 동일하게 동작한다."
   ]
  },
  {
   "cell_type": "markdown",
   "metadata": {},
   "source": [
    "### 큐(Queue)"
   ]
  },
  {
   "cell_type": "markdown",
   "metadata": {},
   "source": [
    "first in first out"
   ]
  },
  {
   "cell_type": "code",
   "execution_count": 3,
   "metadata": {},
   "outputs": [
    {
     "name": "stdout",
     "output_type": "stream",
     "text": [
      "deque([3, 7, 1, 4])\n",
      "deque([4, 1, 7, 3])\n"
     ]
    }
   ],
   "source": [
    "# 5-2 큐 예제\n",
    "\n",
    "# 큐(queue) 구현을 위해 deque라는 라이브러리 사용\n",
    "from collections import deque\n",
    "\n",
    "queue = deque()\n",
    "\n",
    "# 삽입5,삽입2,삽입3,삽입7,삭제,삽입1,삽입4,삭제\n",
    "queue.append(5)\n",
    "queue.append(2)\n",
    "queue.append(3)\n",
    "queue.append(7)\n",
    "queue.popleft()\n",
    "queue.append(1)\n",
    "queue.append(4)\n",
    "queue.popleft()\n",
    "\n",
    "print(queue) #먼저 들어온 순서대로 출력\n",
    "queue.reverse() # 역순으로 바꾸기\n",
    "print(queue) # 역순으로 바꾼것 출력"
   ]
  }
 ],
 "metadata": {
  "kernelspec": {
   "display_name": "Python 3.7.9 ('data_science': venv)",
   "language": "python",
   "name": "python3"
  },
  "language_info": {
   "codemirror_mode": {
    "name": "ipython",
    "version": 3
   },
   "file_extension": ".py",
   "mimetype": "text/x-python",
   "name": "python",
   "nbconvert_exporter": "python",
   "pygments_lexer": "ipython3",
   "version": "3.7.9"
  },
  "orig_nbformat": 4,
  "vscode": {
   "interpreter": {
    "hash": "bf1099e990e91e94eb4cafd9866453205093733f19978f203482b3ed7c0424ee"
   }
  }
 },
 "nbformat": 4,
 "nbformat_minor": 2
}
