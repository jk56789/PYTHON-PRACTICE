{
 "cells": [
  {
   "cell_type": "markdown",
   "metadata": {},
   "source": [
    "#### 자료구조(Data Structure): 데이터를 표현하고 관리하고 처리하기 위한 구조"
   ]
  },
  {
   "cell_type": "markdown",
   "metadata": {},
   "source": [
    "#### 탐색(Search): 많은 양의 데이터 중에서 원하는 데이터를 찾는과정\n",
    "    그래프,트리등의 자료구조에서 탐색을 해야한다. 탐색알고리즘으로는 DFS,BFS가 있다.\n"
   ]
  },
  {
   "cell_type": "markdown",
   "metadata": {},
   "source": [
    "overflow: 특정 자료구조가 수용할 수 있는 데이터의 크기를 벗어난 상태에서 삽입연산을 수행할 때 발생"
   ]
  },
  {
   "cell_type": "markdown",
   "metadata": {},
   "source": [
    "undeflow: overflow와 반대로 데이터가 전혀 들어있지 않은 상태에서 삭제연산을 수행랑 때 발생"
   ]
  },
  {
   "cell_type": "markdown",
   "metadata": {},
   "source": [
    "### stack"
   ]
  },
  {
   "cell_type": "markdown",
   "metadata": {},
   "source": [
    "fisrt in last out"
   ]
  },
  {
   "cell_type": "code",
   "execution_count": 2,
   "metadata": {},
   "outputs": [
    {
     "name": "stdout",
     "output_type": "stream",
     "text": [
      "[5, 2, 3, 1]\n",
      "[1, 3, 2, 5]\n"
     ]
    }
   ],
   "source": [
    "#5-1 스택예제\n",
    "\n",
    "#삽입5,삽입2,삽입3,삽입7,삭제,삽입1,삽이4,삭제\n",
    "\n",
    "stack=[]\n",
    "stack.append(5)\n",
    "stack.append(2)\n",
    "stack.append(3)\n",
    "stack.append(7)\n",
    "stack.pop() #쌓아 올린 것줌 맨위의 것 삭제\n",
    "stack.append(1)\n",
    "stack.append(4)\n",
    "stack.pop()\n",
    "\n",
    "print(stack) #최하단 원소부터 출력\n",
    "print(stack[::-1]) #최상단 원소부터 출력"
   ]
  },
  {
   "cell_type": "markdown",
   "metadata": {},
   "source": [
    "스택을 이용할 때 별도의 라이브러리 불필요\n",
    "\n",
    "\n",
    "리스트에서 append()와pop()메서드를 이용하면 스택 자료구조와 동일하게 동작한다."
   ]
  },
  {
   "cell_type": "markdown",
   "metadata": {},
   "source": [
    "### 큐(Queue)"
   ]
  },
  {
   "cell_type": "markdown",
   "metadata": {},
   "source": [
    "first in first out"
   ]
  },
  {
   "cell_type": "code",
   "execution_count": 3,
   "metadata": {},
   "outputs": [
    {
     "name": "stdout",
     "output_type": "stream",
     "text": [
      "deque([3, 7, 1, 4])\n",
      "deque([4, 1, 7, 3])\n"
     ]
    }
   ],
   "source": [
    "# 5-2 큐 예제\n",
    "\n",
    "# 큐(queue) 구현을 위해 deque라는 라이브러리 사용\n",
    "from collections import deque\n",
    "\n",
    "queue = deque()\n",
    "\n",
    "# 삽입5,삽입2,삽입3,삽입7,삭제,삽입1,삽입4,삭제\n",
    "queue.append(5)\n",
    "queue.append(2)\n",
    "queue.append(3)\n",
    "queue.append(7)\n",
    "queue.popleft()\n",
    "queue.append(1)\n",
    "queue.append(4)\n",
    "queue.popleft()\n",
    "\n",
    "print(queue) #먼저 들어온 순서대로 출력\n",
    "queue.reverse() # 역순으로 바꾸기\n",
    "print(queue) # 역순으로 바꾼것 출력"
   ]
  },
  {
   "cell_type": "markdown",
   "metadata": {},
   "source": [
    "### 재귀함수(Recursive Function)"
   ]
  },
  {
   "cell_type": "markdown",
   "metadata": {},
   "source": [
    "자기자신을 다시 호출하는 함수\n"
   ]
  },
  {
   "cell_type": "code",
   "execution_count": 9,
   "metadata": {},
   "outputs": [
    {
     "data": {
      "text/plain": [
       "<function __main__.recursive_function()>"
      ]
     },
     "execution_count": 9,
     "metadata": {},
     "output_type": "execute_result"
    }
   ],
   "source": [
    "#5-3 재귀함수 예제\n",
    "\n",
    "def recursive_function():\n",
    "    print('재귀함수를 호출합니다.')\n",
    "    recursive_function()\n",
    "recursive_function\n"
   ]
  },
  {
   "cell_type": "code",
   "execution_count": 6,
   "metadata": {},
   "outputs": [
    {
     "name": "stdout",
     "output_type": "stream",
     "text": [
      "1 번째 재귀함수에서 2 번째 재귀함수를 호출합니다.\n",
      "2 번째 재귀함수에서 3 번째 재귀함수를 호출합니다.\n",
      "3 번째 재귀함수에서 4 번째 재귀함수를 호출합니다.\n",
      "3 번째 재귀 함수를 종료합니다.\n",
      "2 번째 재귀 함수를 종료합니다.\n",
      "1 번째 재귀 함수를 종료합니다.\n"
     ]
    }
   ],
   "source": [
    "# 5-4 재귀함수 종료 예제\n",
    "\n",
    "def recursive_function(i):\n",
    "    #100번째 출력헀을떄 종료되도록 종료조건 명시\n",
    "    if i == 4:\n",
    "        return\n",
    "    print(i , '번째 재귀함수에서', i+1, '번째 재귀함수를 호출합니다.')\n",
    "    recursive_function(i+1)\n",
    "    print(i,'번째 재귀 함수를 종료합니다.')\n",
    "recursive_function(1)"
   ]
  },
  {
   "cell_type": "code",
   "execution_count": 8,
   "metadata": {},
   "outputs": [
    {
     "name": "stdout",
     "output_type": "stream",
     "text": [
      "반복적으로 구현 :  120\n",
      "재귀적으로 구현 :  120\n"
     ]
    }
   ],
   "source": [
    "# 5-5 2가지 방식으로 구현한 팩토리얼\n",
    "\n",
    "# 1. 반복적으로 구현한 n!\n",
    "def factorial_iterative(n):\n",
    "    result = 1\n",
    "    # 1부터 n까지의 수를 차례대로 곱하기\n",
    "    for i in range(1,n+1):\n",
    "        result = result * i \n",
    "    return result\n",
    "print('반복적으로 구현 : ', factorial_iterative(5))\n",
    "\n",
    "def factorial_recursive(n):\n",
    "    if n <= 1: #n이 1이하인 경우 1을 반환\n",
    "        return 1\n",
    "    # n! = n*(n-1)!를 코드로 작성하기\n",
    "    return n*factorial_recursive(n-1)\n",
    "print('재귀적으로 구현 : ', factorial_recursive(5))"
   ]
  },
  {
   "cell_type": "markdown",
   "metadata": {},
   "source": [
    "### 탐색알고리즘 DFS/BFS"
   ]
  },
  {
   "cell_type": "markdown",
   "metadata": {},
   "source": [
    "##### 노드(Node,도시)와 간선(Edge,도로)\n"
   ]
  },
  {
   "cell_type": "markdown",
   "metadata": {},
   "source": [
    "##### 프로그래밍에서 그래프는 크게 2가지\n",
    "###### 인접행렬(Adjacent Matrix): 2차원 배열로 그래프의 연결관계를 표현하는 방식,2차원 배열에 각 노드가 연결괸 형태를 기록하는 방식\n",
    "###### 인접리스트(Adjancent List): 리스트로 그래프의 연결관계를 표현하는 방식"
   ]
  },
  {
   "cell_type": "code",
   "execution_count": 7,
   "metadata": {},
   "outputs": [
    {
     "name": "stdout",
     "output_type": "stream",
     "text": [
      "[[0, 7, 5], [7, 0, 999999999], [5, 0, 999999999]]\n"
     ]
    }
   ],
   "source": [
    "# 인접행렬 방식 예제\n",
    "\n",
    "inf = 999999999 #무한 비용 선언\n",
    "\n",
    "#2차원 리스트를 이용해 인접 행렬 표현\n",
    "graph = [   \n",
    "        [0,7,5],\n",
    "        [7,0,inf],\n",
    "        [5,0,inf]\n",
    "]\n",
    "print(graph)"
   ]
  },
  {
   "cell_type": "code",
   "execution_count": 16,
   "metadata": {},
   "outputs": [
    {
     "name": "stdout",
     "output_type": "stream",
     "text": [
      "[[], [], []]\n",
      "[[(1, 7), (2, 5)], [], []]\n",
      "[[(1, 7), (2, 5)], [(0, 7)], []]\n",
      "[[(1, 7), (2, 5)], [(0, 7)], [(0, 5)]]\n"
     ]
    }
   ],
   "source": [
    "#인접리스트 방식 예제\n",
    "\n",
    "#행이 3개인 2차원 리스트로 인접리스트 표현\n",
    "graph = [[] for _  in range(3)]\n",
    "print(graph)\n",
    "#노드 0에 연결된 노드정보 저장(노드,거리)\n",
    "graph[0].append((1,7))\n",
    "graph[0].append((2,5))\n",
    "print(graph)\n",
    "#노드 1에 연결된 노드정보 저장(노드,거리)\n",
    "graph[1].append((0,7))\n",
    "print(graph)\n",
    "#노드 2에 연결된 노드정보 저장(노드,거리)\n",
    "graph[2].append((0,5))\n",
    "\n",
    "print(graph)"
   ]
  },
  {
   "cell_type": "markdown",
   "metadata": {},
   "source": [
    "#### 두 방식의 차이\n",
    "          "
   ]
  },
  {
   "cell_type": "markdown",
   "metadata": {},
   "source": [
    "인접해렬방식은 모든 관계를 저장하므로 노드 개수가 많을수록 메모리가 불필요하게 낭비된다.  \n",
    "인접리스트방식은 연결된 정보만을 저장하기 때문에 메모리를 효율적으로 사용한다.하지만 특정한 두 노드가 연결되어 있는 지에대한 정보를 얻는 속도가 느리다."
   ]
  },
  {
   "cell_type": "markdown",
   "metadata": {},
   "source": []
  },
  {
   "cell_type": "markdown",
   "metadata": {},
   "source": [
    "#### DFS (깊이 우선 탐색 알고리즘)\n",
    "##### 특정한 경로로 탐색하다가 특정한 상황에서 최대한 깊숙이 들어가서 노드를 방문한 후, 다시 돌아가 다른 경로로 탐색하는 알고리즘"
   ]
  },
  {
   "cell_type": "code",
   "execution_count": 22,
   "metadata": {},
   "outputs": [
    {
     "name": "stdout",
     "output_type": "stream",
     "text": [
      "1 2 7 6 8 3 4 5 "
     ]
    }
   ],
   "source": [
    "# DFS 메서드 정의\n",
    "def dfs(graph, v, visited):\n",
    "    #현재 노드를 방문처리\n",
    "    visited[v] = True\n",
    "    print(v, end=' ')\n",
    "    \n",
    "    #현재 노드와 연결된 다른 노드를 재귀적으로 방문\n",
    "    for i in graph[v]:\n",
    "        if not visited[i]:\n",
    "            dfs(graph, i, visited)\n",
    "            \n",
    "\n",
    "\n",
    "#각 노드가 연결된 정보를 리스트 자료형으로 표현(2차원 리스트)\n",
    "graph = [[],\n",
    "        [2,3,8],\n",
    "        [1,7],\n",
    "        [1,4,5],\n",
    "        [3,5],\n",
    "        [3,4],\n",
    "        [7],\n",
    "        [2,6,8],\n",
    "        [1,7]\n",
    "        ]\n",
    "\n",
    "#각 노드가 방문된 정보를 리스트 자료형으로 표현(1차원 리스트)\n",
    "visited = [False]*9\n",
    "\n",
    "#정의된 DFS 함수 호출\n",
    "dfs(graph, 1,  visited)"
   ]
  },
  {
   "cell_type": "markdown",
   "metadata": {},
   "source": [
    "### BFS(너비 우선 탐색) "
   ]
  },
  {
   "cell_type": "markdown",
   "metadata": {},
   "source": [
    "#### 가까운 노드부터 탐색하는 알고리즘"
   ]
  },
  {
   "cell_type": "markdown",
   "metadata": {},
   "source": [
    "###### BFS는 큐 자료구조에 기초한다는 점에서 구현이 간단하다. deque라이브러리를 사용하며 O(N)의 시간이 소요된다. 실제 수행시가이 DFS보다 좋은편이다."
   ]
  },
  {
   "cell_type": "code",
   "execution_count": 27,
   "metadata": {},
   "outputs": [
    {
     "name": "stdout",
     "output_type": "stream",
     "text": [
      "1 2 3 8 7 4 5 6 "
     ]
    }
   ],
   "source": [
    "#BFS 예제\n",
    "\n",
    "from collections import deque\n",
    "\n",
    "#BFS 메서드 정의\n",
    "def bfs(graph, start, visited):\n",
    "    #큐(Queue) 구현을 위해 deque라이브러리 사용\n",
    "    queue = deque([start])\n",
    "    #현재 노드 방문처리\n",
    "    visited[start]=True\n",
    "    #큐가 빌 때까지 반복\n",
    "    while queue:\n",
    "        #큐에서 하나의 원소를 뽑아 출력\n",
    "        v=queue.popleft()\n",
    "        print(v,end = ' ')\n",
    "        #해당 원소와 연결된, 아직 방문하지 않은 원소들을 큐에 삽입\n",
    "        for i in graph[v]:\n",
    "            if not visited[i]:\n",
    "                queue.append(i)\n",
    "                visited[i] = True\n",
    "\n",
    "#각 노드가 연결된 정보를 리스트 자료형으로 표현(2차원 리스트)\n",
    "graph = [[],\n",
    "        [2,3,8],\n",
    "        [1,7],\n",
    "        [1,4,5],\n",
    "        [3,5],\n",
    "        [3,4],\n",
    "        [7],\n",
    "        [2,6,8],\n",
    "        [1,7]\n",
    "        ]\n",
    "\n",
    "#각 노드가 방문된 정보를 리스트 자료형으로 표현(1차원 리스트)\n",
    "visited = [False]*9\n",
    "\n",
    "#정의된 DFS 함수 호출\n",
    "bfs(graph, 1,  visited)\n",
    "                "
   ]
  },
  {
   "cell_type": "code",
   "execution_count": 28,
   "metadata": {},
   "outputs": [
    {
     "name": "stdout",
     "output_type": "stream",
     "text": [
      "deque([1])\n",
      "deque([])\n"
     ]
    }
   ],
   "source": [
    "from collections import deque\n",
    "a= deque([1])\n",
    "print(a)\n",
    "a.popleft()\n",
    "print(a)"
   ]
  }
 ],
 "metadata": {
  "kernelspec": {
   "display_name": "Python 3.7.9 ('data_science': venv)",
   "language": "python",
   "name": "python3"
  },
  "language_info": {
   "codemirror_mode": {
    "name": "ipython",
    "version": 3
   },
   "file_extension": ".py",
   "mimetype": "text/x-python",
   "name": "python",
   "nbconvert_exporter": "python",
   "pygments_lexer": "ipython3",
   "version": "3.7.9"
  },
  "orig_nbformat": 4,
  "vscode": {
   "interpreter": {
    "hash": "bf1099e990e91e94eb4cafd9866453205093733f19978f203482b3ed7c0424ee"
   }
  }
 },
 "nbformat": 4,
 "nbformat_minor": 2
}
